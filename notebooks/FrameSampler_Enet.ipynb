{
 "cells": [
  {
   "cell_type": "code",
   "execution_count": 1,
   "metadata": {
    "ExecuteTime": {
     "end_time": "2020-10-08T15:39:26.466093Z",
     "start_time": "2020-10-08T15:39:22.238698Z"
    },
    "collapsed": true
   },
   "outputs": [],
   "source": [
    "from pathlib import Path\n",
    "import cv2\n",
    "import torch\n",
    "from skvideo.io import FFmpegWriter, vreader\n",
    "from torchvision.transforms import Compose, Resize, ToPILImage, ToTensor\n",
    "import glob "
   ]
  },
  {
   "cell_type": "code",
   "execution_count": 2,
   "metadata": {
    "ExecuteTime": {
     "end_time": "2020-10-08T15:39:27.591243Z",
     "start_time": "2020-10-08T15:39:27.583407Z"
    },
    "collapsed": true
   },
   "outputs": [],
   "source": [
    "video_files_mp4= glob.glob('/10TBdrive/sagarj/Soundscapes_vids/*.mp4')\n",
    "video_files_mov= glob.glob('/10TBdrive/sagarj/Soundscapes_vids/*.mov')\n",
    "video_files = video_files_mp4 + video_files_mov\n",
    "sample_dir = '/10TBdrive/sagarj/Soundscapes_vids/samples/'"
   ]
  },
  {
   "cell_type": "code",
   "execution_count": 3,
   "metadata": {
    "ExecuteTime": {
     "end_time": "2020-10-08T15:39:29.156794Z",
     "start_time": "2020-10-08T15:39:29.139453Z"
    }
   },
   "outputs": [
    {
     "data": {
      "text/plain": [
       "['/10TBdrive/sagarj/Soundscapes_vids/TateModernSq1_0075.mp4',\n",
       " '/10TBdrive/sagarj/Soundscapes_vids/StPaulsRow1_0097.mp4',\n",
       " '/10TBdrive/sagarj/Soundscapes_vids/RusselSq3_EQR_720p.mp4',\n",
       " '/10TBdrive/sagarj/Soundscapes_vids/RusselSq1_EQR_720p.mp4',\n",
       " '/10TBdrive/sagarj/Soundscapes_vids/RegentsParkJapan2_0061.mp4',\n",
       " '/10TBdrive/sagarj/Soundscapes_vids/TateModern3_0093.mp4',\n",
       " '/10TBdrive/sagarj/Soundscapes_vids/MarchmontGarden3_EQR_720p.mp4',\n",
       " '/10TBdrive/sagarj/Soundscapes_vids/MarchmontGarden1_EQR_720p.mp4',\n",
       " '/10TBdrive/sagarj/Soundscapes_vids/EustonTap3_0347.mp4',\n",
       " '/10TBdrive/sagarj/Soundscapes_vids/RegentsParkFields2_EQR_720p.mp4',\n",
       " '/10TBdrive/sagarj/Soundscapes_vids/TateModernSq2_0076.mp4',\n",
       " '/10TBdrive/sagarj/Soundscapes_vids/MarchmontGarden2_EQR_720p.mp4',\n",
       " '/10TBdrive/sagarj/Soundscapes_vids/RegentsParkJapan1_0060.mp4',\n",
       " '/10TBdrive/sagarj/Soundscapes_vids/RusselSq2_EQR_720p.mp4',\n",
       " '/10TBdrive/sagarj/Soundscapes_vids/PancrasLock2_0058.mp4',\n",
       " '/10TBdrive/sagarj/Soundscapes_vids/RegentsParkPath1_EQR_702.mov',\n",
       " '/10TBdrive/sagarj/Soundscapes_vids/CamdenTown2_EQR_720p.mov',\n",
       " '/10TBdrive/sagarj/Soundscapes_vids/CamdenTown1_EQR_720p.mov',\n",
       " '/10TBdrive/sagarj/Soundscapes_vids/EustonTap1_EQR_720p.mov',\n",
       " '/10TBdrive/sagarj/Soundscapes_vids/StPaulsCross1_EQR_720p.mov',\n",
       " '/10TBdrive/sagarj/Soundscapes_vids/PancrasLock1_EQR_720p.mov',\n",
       " '/10TBdrive/sagarj/Soundscapes_vids/CamdenMarket1_EQR_720p.mov',\n",
       " '/10TBdrive/sagarj/Soundscapes_vids/TorringtonSq3_EQR_720p.mov',\n",
       " '/10TBdrive/sagarj/Soundscapes_vids/TorringtonSq2_EQR_720p.mov',\n",
       " '/10TBdrive/sagarj/Soundscapes_vids/EustonTap2_EQR_720p.mov',\n",
       " '/10TBdrive/sagarj/Soundscapes_vids/TateModern1_EQR_720p.mov',\n",
       " '/10TBdrive/sagarj/Soundscapes_vids/CamdenTown3_EQR_720p.mov',\n",
       " '/10TBdrive/sagarj/Soundscapes_vids/CamdenTown4_EQR_720p.mov',\n",
       " '/10TBdrive/sagarj/Soundscapes_vids/TorringtonSq4_EQR_720p.mov']"
      ]
     },
     "execution_count": 3,
     "metadata": {},
     "output_type": "execute_result"
    }
   ],
   "source": [
    "video_files"
   ]
  },
  {
   "cell_type": "code",
   "execution_count": 4,
   "metadata": {
    "ExecuteTime": {
     "end_time": "2020-10-08T16:58:25.973608Z",
     "start_time": "2020-10-08T15:40:14.792589Z"
    }
   },
   "outputs": [
    {
     "name": "stdout",
     "output_type": "stream",
     "text": [
      "/10TBdrive/sagarj/Soundscapes_vids/TateModernSq1_0075.mp4\n",
      "/10TBdrive/sagarj/Soundscapes_vids/StPaulsRow1_0097.mp4\n",
      "/10TBdrive/sagarj/Soundscapes_vids/RusselSq3_EQR_720p.mp4\n",
      "/10TBdrive/sagarj/Soundscapes_vids/RusselSq1_EQR_720p.mp4\n",
      "/10TBdrive/sagarj/Soundscapes_vids/RegentsParkJapan2_0061.mp4\n",
      "/10TBdrive/sagarj/Soundscapes_vids/TateModern3_0093.mp4\n",
      "/10TBdrive/sagarj/Soundscapes_vids/MarchmontGarden3_EQR_720p.mp4\n",
      "/10TBdrive/sagarj/Soundscapes_vids/MarchmontGarden1_EQR_720p.mp4\n",
      "/10TBdrive/sagarj/Soundscapes_vids/EustonTap3_0347.mp4\n",
      "/10TBdrive/sagarj/Soundscapes_vids/RegentsParkFields2_EQR_720p.mp4\n",
      "/10TBdrive/sagarj/Soundscapes_vids/TateModernSq2_0076.mp4\n",
      "/10TBdrive/sagarj/Soundscapes_vids/MarchmontGarden2_EQR_720p.mp4\n",
      "/10TBdrive/sagarj/Soundscapes_vids/RegentsParkJapan1_0060.mp4\n",
      "/10TBdrive/sagarj/Soundscapes_vids/RusselSq2_EQR_720p.mp4\n",
      "/10TBdrive/sagarj/Soundscapes_vids/PancrasLock2_0058.mp4\n",
      "/10TBdrive/sagarj/Soundscapes_vids/RegentsParkPath1_EQR_702.mov\n",
      "/10TBdrive/sagarj/Soundscapes_vids/CamdenTown2_EQR_720p.mov\n",
      "/10TBdrive/sagarj/Soundscapes_vids/CamdenTown1_EQR_720p.mov\n",
      "/10TBdrive/sagarj/Soundscapes_vids/EustonTap1_EQR_720p.mov\n",
      "/10TBdrive/sagarj/Soundscapes_vids/StPaulsCross1_EQR_720p.mov\n",
      "/10TBdrive/sagarj/Soundscapes_vids/PancrasLock1_EQR_720p.mov\n",
      "/10TBdrive/sagarj/Soundscapes_vids/CamdenMarket1_EQR_720p.mov\n",
      "/10TBdrive/sagarj/Soundscapes_vids/TorringtonSq3_EQR_720p.mov\n",
      "/10TBdrive/sagarj/Soundscapes_vids/TorringtonSq2_EQR_720p.mov\n",
      "/10TBdrive/sagarj/Soundscapes_vids/EustonTap2_EQR_720p.mov\n",
      "/10TBdrive/sagarj/Soundscapes_vids/TateModern1_EQR_720p.mov\n",
      "/10TBdrive/sagarj/Soundscapes_vids/CamdenTown3_EQR_720p.mov\n",
      "/10TBdrive/sagarj/Soundscapes_vids/CamdenTown4_EQR_720p.mov\n",
      "/10TBdrive/sagarj/Soundscapes_vids/TorringtonSq4_EQR_720p.mov\n"
     ]
    }
   ],
   "source": [
    "\n",
    "from pathlib import Path\n",
    "from skvideo.io import FFmpegWriter, vreader, vwrite\n",
    "import time\n",
    "\n",
    "for vid in video_files:\n",
    "    video_stub_name = vid.split('/')[-1].split('.')[0]\n",
    "    print(vid)\n",
    "    frameNumber = 0\n",
    "    for frame in vreader(str(vid)):\n",
    "        if frameNumber%300 == 0:\n",
    "            output_name =sample_dir + video_stub_name + '_' + str(frameNumber) + '.jpg'\n",
    "            vwrite(output_name, frame)\n",
    "        frameNumber+=1\n",
    "            "
   ]
  },
  {
   "cell_type": "code",
   "execution_count": null,
   "metadata": {
    "collapsed": true
   },
   "outputs": [],
   "source": []
  }
 ],
 "metadata": {
  "kernelspec": {
   "display_name": "Python [conda env:root] *",
   "language": "python",
   "name": "conda-root-py"
  },
  "language_info": {
   "codemirror_mode": {
    "name": "ipython",
    "version": 3
   },
   "file_extension": ".py",
   "mimetype": "text/x-python",
   "name": "python",
   "nbconvert_exporter": "python",
   "pygments_lexer": "ipython3",
   "version": "3.6.3"
  },
  "latex_envs": {
   "LaTeX_envs_menu_present": true,
   "autoclose": false,
   "autocomplete": true,
   "bibliofile": "biblio.bib",
   "cite_by": "apalike",
   "current_citInitial": 1,
   "eqLabelWithNumbers": true,
   "eqNumInitial": 1,
   "hotkeys": {
    "equation": "Ctrl-E",
    "itemize": "Ctrl-I"
   },
   "labels_anchors": false,
   "latex_user_defs": false,
   "report_style_numbering": false,
   "user_envs_cfg": false
  },
  "toc": {
   "base_numbering": 1,
   "nav_menu": {},
   "number_sections": true,
   "sideBar": true,
   "skip_h1_title": false,
   "title_cell": "Table of Contents",
   "title_sidebar": "Contents",
   "toc_cell": false,
   "toc_position": {},
   "toc_section_display": true,
   "toc_window_display": false
  },
  "varInspector": {
   "cols": {
    "lenName": 16,
    "lenType": 16,
    "lenVar": 40
   },
   "kernels_config": {
    "python": {
     "delete_cmd_postfix": "",
     "delete_cmd_prefix": "del ",
     "library": "var_list.py",
     "varRefreshCmd": "print(var_dic_list())"
    },
    "r": {
     "delete_cmd_postfix": ") ",
     "delete_cmd_prefix": "rm(",
     "library": "var_list.r",
     "varRefreshCmd": "cat(var_dic_list()) "
    }
   },
   "types_to_exclude": [
    "module",
    "function",
    "builtin_function_or_method",
    "instance",
    "_Feature"
   ],
   "window_display": false
  }
 },
 "nbformat": 4,
 "nbformat_minor": 2
}
