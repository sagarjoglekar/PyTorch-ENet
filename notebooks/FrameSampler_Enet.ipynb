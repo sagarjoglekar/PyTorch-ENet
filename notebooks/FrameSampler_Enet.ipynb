{
 "cells": [
  {
   "cell_type": "code",
   "execution_count": 6,
   "metadata": {
    "ExecuteTime": {
     "end_time": "2020-09-15T15:26:26.257159Z",
     "start_time": "2020-09-15T15:26:26.250873Z"
    },
    "collapsed": true
   },
   "outputs": [],
   "source": [
    "from pathlib import Path\n",
    "import cv2\n",
    "import torch\n",
    "from skvideo.io import FFmpegWriter, vreader\n",
    "from torchvision.transforms import Compose, Resize, ToPILImage, ToTensor\n",
    "import glob "
   ]
  },
  {
   "cell_type": "code",
   "execution_count": 7,
   "metadata": {
    "ExecuteTime": {
     "end_time": "2020-09-15T15:26:26.651559Z",
     "start_time": "2020-09-15T15:26:26.647790Z"
    },
    "collapsed": true
   },
   "outputs": [],
   "source": [
    "video_files = glob.glob('/10TBdrive/sagarj/Soundscapes_vids/*.mp4')\n",
    "sample_dir = '/10TBdrive/sagarj/Soundscapes_vids/samples/'"
   ]
  },
  {
   "cell_type": "code",
   "execution_count": 8,
   "metadata": {
    "ExecuteTime": {
     "end_time": "2020-09-15T15:26:27.110055Z",
     "start_time": "2020-09-15T15:26:27.106016Z"
    }
   },
   "outputs": [
    {
     "data": {
      "text/plain": [
       "['/10TBdrive/sagarj/Soundscapes_vids/EustonTap3_0347.mp4']"
      ]
     },
     "execution_count": 8,
     "metadata": {},
     "output_type": "execute_result"
    }
   ],
   "source": [
    "video_files"
   ]
  },
  {
   "cell_type": "code",
   "execution_count": 9,
   "metadata": {
    "ExecuteTime": {
     "end_time": "2020-09-15T15:28:15.119272Z",
     "start_time": "2020-09-15T15:26:33.952534Z"
    }
   },
   "outputs": [
    {
     "name": "stdout",
     "output_type": "stream",
     "text": [
      "/10TBdrive/sagarj/Soundscapes_vids/EustonTap3_0347.mp4\n"
     ]
    }
   ],
   "source": [
    "\n",
    "# from pathlib import Path\n",
    "# from skvideo.io import FFmpegWriter, vreader, vwrite\n",
    "# import time\n",
    "\n",
    "# for vid in video_files:\n",
    "#     video_stub_name = vid.split('/')[-1].split('.')[0]\n",
    "#     print(vid)\n",
    "#     frameNumber = 0\n",
    "#     for frame in vreader(str(vid)):\n",
    "#         if frameNumber%30 == 0:\n",
    "#             output_name =sample_dir + video_stub_name + '_' + str(frameNumber) + '.jpg'\n",
    "#             vwrite(output_name, frame)\n",
    "#         frameNumber+=1\n",
    "            "
   ]
  },
  {
   "cell_type": "code",
   "execution_count": null,
   "metadata": {
    "collapsed": true
   },
   "outputs": [],
   "source": []
  }
 ],
 "metadata": {
  "kernelspec": {
   "display_name": "Python [conda env:root] *",
   "language": "python",
   "name": "conda-root-py"
  },
  "language_info": {
   "codemirror_mode": {
    "name": "ipython",
    "version": 3
   },
   "file_extension": ".py",
   "mimetype": "text/x-python",
   "name": "python",
   "nbconvert_exporter": "python",
   "pygments_lexer": "ipython3",
   "version": "3.6.3"
  },
  "latex_envs": {
   "LaTeX_envs_menu_present": true,
   "autoclose": false,
   "autocomplete": true,
   "bibliofile": "biblio.bib",
   "cite_by": "apalike",
   "current_citInitial": 1,
   "eqLabelWithNumbers": true,
   "eqNumInitial": 1,
   "hotkeys": {
    "equation": "Ctrl-E",
    "itemize": "Ctrl-I"
   },
   "labels_anchors": false,
   "latex_user_defs": false,
   "report_style_numbering": false,
   "user_envs_cfg": false
  },
  "toc": {
   "base_numbering": 1,
   "nav_menu": {},
   "number_sections": true,
   "sideBar": true,
   "skip_h1_title": false,
   "title_cell": "Table of Contents",
   "title_sidebar": "Contents",
   "toc_cell": false,
   "toc_position": {},
   "toc_section_display": true,
   "toc_window_display": false
  },
  "varInspector": {
   "cols": {
    "lenName": 16,
    "lenType": 16,
    "lenVar": 40
   },
   "kernels_config": {
    "python": {
     "delete_cmd_postfix": "",
     "delete_cmd_prefix": "del ",
     "library": "var_list.py",
     "varRefreshCmd": "print(var_dic_list())"
    },
    "r": {
     "delete_cmd_postfix": ") ",
     "delete_cmd_prefix": "rm(",
     "library": "var_list.r",
     "varRefreshCmd": "cat(var_dic_list()) "
    }
   },
   "types_to_exclude": [
    "module",
    "function",
    "builtin_function_or_method",
    "instance",
    "_Feature"
   ],
   "window_display": false
  }
 },
 "nbformat": 4,
 "nbformat_minor": 2
}
